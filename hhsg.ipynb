{
 "metadata": {
  "language_info": {
   "codemirror_mode": {
    "name": "ipython",
    "version": 3
   },
   "file_extension": ".py",
   "mimetype": "text/x-python",
   "name": "python",
   "nbconvert_exporter": "python",
   "pygments_lexer": "ipython3",
   "version": 3
  },
  "orig_nbformat": 2
 },
 "nbformat": 4,
 "nbformat_minor": 2,
 "cells": [
  {
   "cell_type": "code",
   "execution_count": null,
   "metadata": {},
   "outputs": [],
   "source": [
    "class Foo:\n",
    "    def __init__(self, x):\n",
    "        self.x = x\n",
    "    def test(self):\n",
    "        return \"Foo: {}\".format(self.x)\n",
    "class Bar:\n",
    "    def __init__(self, x):\n",
    "        self.x = x\n",
    "    def test(self):\n",
    "        return \"Bar: {}\".format(self.x)\n",
    "class Foobar(Foo, Bar):\n",
    "    pass\n",
    "obj = Foobar(10)\n",
    "print(obj.test())"
   ]
  },
  {
   "cell_type": "code",
   "execution_count": null,
   "metadata": {},
   "outputs": [],
   "source": []
  }
 ]
}